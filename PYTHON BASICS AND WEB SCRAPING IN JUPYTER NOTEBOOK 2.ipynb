{
 "cells": [
  {
   "cell_type": "code",
   "execution_count": 1,
   "id": "eebd7d63",
   "metadata": {},
   "outputs": [
    {
     "name": "stdout",
     "output_type": "stream",
     "text": [
      "Akshay 1\n",
      "Akshay 2\n",
      "Akshay 3\n",
      "Akshay 4\n",
      "Akshay 5\n",
      "Akshay 6\n",
      "Akshay 7\n",
      "Akshay 8\n",
      "Akshay 9\n"
     ]
    }
   ],
   "source": [
    "for i in range(1,10):\n",
    "    print(\"Akshay\" + ' ' + str(i))"
   ]
  },
  {
   "cell_type": "markdown",
   "id": "e0cb7820",
   "metadata": {},
   "source": [
    "# WHILE LOOP"
   ]
  },
  {
   "cell_type": "code",
   "execution_count": 2,
   "id": "aa582698",
   "metadata": {},
   "outputs": [
    {
     "name": "stdout",
     "output_type": "stream",
     "text": [
      "Akshay\n",
      "Akshay\n",
      "Akshay\n",
      "Akshay\n",
      "Akshay\n"
     ]
    }
   ],
   "source": [
    "i=0\n",
    "while i<= 4:\n",
    "    print(\"Akshay\")\n",
    "    i=i+1"
   ]
  },
  {
   "cell_type": "code",
   "execution_count": 3,
   "id": "b0e30d35",
   "metadata": {},
   "outputs": [],
   "source": [
    "even=[]\n",
    "odd=[]\n",
    "for i in range(1,101):\n",
    "    if i%2==0:\n",
    "        even.append(i)\n",
    "    else:\n",
    "        odd.append(i)"
   ]
  },
  {
   "cell_type": "code",
   "execution_count": 4,
   "id": "d2c55950",
   "metadata": {},
   "outputs": [
    {
     "data": {
      "text/plain": [
       "[2,\n",
       " 4,\n",
       " 6,\n",
       " 8,\n",
       " 10,\n",
       " 12,\n",
       " 14,\n",
       " 16,\n",
       " 18,\n",
       " 20,\n",
       " 22,\n",
       " 24,\n",
       " 26,\n",
       " 28,\n",
       " 30,\n",
       " 32,\n",
       " 34,\n",
       " 36,\n",
       " 38,\n",
       " 40,\n",
       " 42,\n",
       " 44,\n",
       " 46,\n",
       " 48,\n",
       " 50,\n",
       " 52,\n",
       " 54,\n",
       " 56,\n",
       " 58,\n",
       " 60,\n",
       " 62,\n",
       " 64,\n",
       " 66,\n",
       " 68,\n",
       " 70,\n",
       " 72,\n",
       " 74,\n",
       " 76,\n",
       " 78,\n",
       " 80,\n",
       " 82,\n",
       " 84,\n",
       " 86,\n",
       " 88,\n",
       " 90,\n",
       " 92,\n",
       " 94,\n",
       " 96,\n",
       " 98,\n",
       " 100]"
      ]
     },
     "execution_count": 4,
     "metadata": {},
     "output_type": "execute_result"
    }
   ],
   "source": [
    "even"
   ]
  },
  {
   "cell_type": "code",
   "execution_count": 5,
   "id": "bd9daa6b",
   "metadata": {},
   "outputs": [
    {
     "data": {
      "text/plain": [
       "[1,\n",
       " 3,\n",
       " 5,\n",
       " 7,\n",
       " 9,\n",
       " 11,\n",
       " 13,\n",
       " 15,\n",
       " 17,\n",
       " 19,\n",
       " 21,\n",
       " 23,\n",
       " 25,\n",
       " 27,\n",
       " 29,\n",
       " 31,\n",
       " 33,\n",
       " 35,\n",
       " 37,\n",
       " 39,\n",
       " 41,\n",
       " 43,\n",
       " 45,\n",
       " 47,\n",
       " 49,\n",
       " 51,\n",
       " 53,\n",
       " 55,\n",
       " 57,\n",
       " 59,\n",
       " 61,\n",
       " 63,\n",
       " 65,\n",
       " 67,\n",
       " 69,\n",
       " 71,\n",
       " 73,\n",
       " 75,\n",
       " 77,\n",
       " 79,\n",
       " 81,\n",
       " 83,\n",
       " 85,\n",
       " 87,\n",
       " 89,\n",
       " 91,\n",
       " 93,\n",
       " 95,\n",
       " 97,\n",
       " 99]"
      ]
     },
     "execution_count": 5,
     "metadata": {},
     "output_type": "execute_result"
    }
   ],
   "source": [
    "odd"
   ]
  },
  {
   "cell_type": "markdown",
   "id": "8a56d5b1",
   "metadata": {},
   "source": [
    "# FUNCTIONS"
   ]
  },
  {
   "cell_type": "code",
   "execution_count": 6,
   "id": "341921b4",
   "metadata": {},
   "outputs": [],
   "source": [
    "###no arguement function also no return function\n",
    "def printdata():\n",
    "    print(\"Akshay\")"
   ]
  },
  {
   "cell_type": "code",
   "execution_count": 7,
   "id": "b963a26f",
   "metadata": {},
   "outputs": [
    {
     "name": "stdout",
     "output_type": "stream",
     "text": [
      "Akshay\n"
     ]
    }
   ],
   "source": [
    "printdata()##function call"
   ]
  },
  {
   "cell_type": "code",
   "execution_count": 8,
   "id": "c0a4978e",
   "metadata": {},
   "outputs": [
    {
     "name": "stdout",
     "output_type": "stream",
     "text": [
      "Akshay\n",
      "Akshay\n",
      "Akshay\n",
      "Akshay\n",
      "Akshay\n",
      "Akshay\n",
      "Akshay\n",
      "Akshay\n",
      "Akshay\n"
     ]
    }
   ],
   "source": [
    "for i in range(1,10):\n",
    "    printdata()###calling function 9 times"
   ]
  },
  {
   "cell_type": "code",
   "execution_count": 9,
   "id": "56870fdd",
   "metadata": {},
   "outputs": [],
   "source": [
    "def add():\n",
    "    a=input(\"ENTER FIRST NUMBER: \")\n",
    "    b=input(\"ENTER SECOND NUMBER: \")\n",
    "    c=a+b\n",
    "    print(\"ADDITION IS \"+c)###actually the input acts as string hence the function does concatenation and not addition."
   ]
  },
  {
   "cell_type": "code",
   "execution_count": 10,
   "id": "f4e64b49",
   "metadata": {},
   "outputs": [
    {
     "name": "stdout",
     "output_type": "stream",
     "text": [
      "ENTER FIRST NUMBER: 23\n",
      "ENTER SECOND NUMBER: 21\n",
      "ADDITION IS 2321\n"
     ]
    }
   ],
   "source": [
    "add()"
   ]
  },
  {
   "cell_type": "code",
   "execution_count": 13,
   "id": "ce2f4351",
   "metadata": {},
   "outputs": [],
   "source": [
    "def add():\n",
    "    a=int(input(\"ENTER FIRST NUMBER: \"))\n",
    "    b=int(input(\"ENTER SECOND NUMBER: \"))\n",
    "    c=a+b\n",
    "    print(\"ADDITION IS \"+ str(c))"
   ]
  },
  {
   "cell_type": "code",
   "execution_count": 14,
   "id": "69360612",
   "metadata": {},
   "outputs": [
    {
     "name": "stdout",
     "output_type": "stream",
     "text": [
      "ENTER FIRST NUMBER: 23\n",
      "ENTER SECOND NUMBER: 21\n",
      "ADDITION IS 44\n"
     ]
    }
   ],
   "source": [
    "add()"
   ]
  },
  {
   "cell_type": "code",
   "execution_count": 15,
   "id": "9f19af65",
   "metadata": {},
   "outputs": [],
   "source": [
    "###function with arguements\n",
    "def addwithargu(a,b):\n",
    "    c=a+b\n",
    "    print(\"ADDITION IS :\"+str(c))"
   ]
  },
  {
   "cell_type": "code",
   "execution_count": 16,
   "id": "fa448597",
   "metadata": {},
   "outputs": [
    {
     "name": "stdout",
     "output_type": "stream",
     "text": [
      "ADDITION IS :30\n"
     ]
    }
   ],
   "source": [
    "addwithargu(10,20)"
   ]
  },
  {
   "cell_type": "code",
   "execution_count": 17,
   "id": "8fc77a98",
   "metadata": {},
   "outputs": [],
   "source": [
    "##return type functions\n",
    "def addwithargu(a,b):\n",
    "    c=a+b\n",
    "    return c"
   ]
  },
  {
   "cell_type": "code",
   "execution_count": 18,
   "id": "b09e72b3",
   "metadata": {},
   "outputs": [
    {
     "data": {
      "text/plain": [
       "30"
      ]
     },
     "execution_count": 18,
     "metadata": {},
     "output_type": "execute_result"
    }
   ],
   "source": [
    "addwithargu(10,20)"
   ]
  },
  {
   "cell_type": "code",
   "execution_count": 32,
   "id": "4c75fa3d",
   "metadata": {},
   "outputs": [],
   "source": [
    "from bs4 import BeautifulSoup as bs"
   ]
  },
  {
   "cell_type": "code",
   "execution_count": 33,
   "id": "0cca51c3",
   "metadata": {},
   "outputs": [],
   "source": [
    "###after installing beautiful soup\n",
    "##above command for importing it\n",
    "##commands to install bs4 link--  https://www.youtube.com/watch?v=GuF__jEt7mM&list=PLfNXG56H-jTvDt_BrLT65hy-vUrs7vkT9&index=8"
   ]
  },
  {
   "cell_type": "code",
   "execution_count": 34,
   "id": "025d5f3d",
   "metadata": {},
   "outputs": [],
   "source": [
    "##using link for scraping -- https://apptronix.net/webscrap/demo1.html\n",
    "##HTML code of the site--\n",
    "\n",
    "#<!DOCTYPE html>\n",
    "#<html>\n",
    "#<head>Head Of The Page</head>\n",
    "#<body>\n",
    "#<p>Simple Paragraph</p>\n",
    "#</body>\n",
    "#</html>"
   ]
  },
  {
   "cell_type": "code",
   "execution_count": 35,
   "id": "b1a47937",
   "metadata": {},
   "outputs": [],
   "source": [
    "import requests ##importing an in-built library"
   ]
  },
  {
   "cell_type": "code",
   "execution_count": 36,
   "id": "af12a5b5",
   "metadata": {},
   "outputs": [],
   "source": [
    "link = \"https://apptronix.net/webscrap/demo1.html\""
   ]
  },
  {
   "cell_type": "code",
   "execution_count": 37,
   "id": "087b3971",
   "metadata": {},
   "outputs": [],
   "source": [
    "page=requests.get(link)"
   ]
  },
  {
   "cell_type": "code",
   "execution_count": 38,
   "id": "c6c69076",
   "metadata": {},
   "outputs": [
    {
     "data": {
      "text/plain": [
       "<Response [406]>"
      ]
     },
     "execution_count": 38,
     "metadata": {},
     "output_type": "execute_result"
    }
   ],
   "source": [
    "page"
   ]
  },
  {
   "cell_type": "code",
   "execution_count": 39,
   "id": "2196fc52",
   "metadata": {},
   "outputs": [],
   "source": [
    "## in above output 406 isas the success code i.e. whenever the page is successfully \n",
    "## executed it returns 406 "
   ]
  },
  {
   "cell_type": "code",
   "execution_count": 40,
   "id": "20965029",
   "metadata": {},
   "outputs": [],
   "source": [
    "### also if we get it as 404 i.e response as 404 then it means page not found 404-page not found error."
   ]
  },
  {
   "cell_type": "code",
   "execution_count": 41,
   "id": "d7e2b655",
   "metadata": {},
   "outputs": [
    {
     "data": {
      "text/plain": [
       "b'<head><title>Not Acceptable!</title></head><body><h1>Not Acceptable!</h1><p>An appropriate representation of the requested resource could not be found on this server. This error was generated by Mod_Security.</p></body></html>'"
      ]
     },
     "execution_count": 41,
     "metadata": {},
     "output_type": "execute_result"
    }
   ],
   "source": [
    "###to see contents of page\n",
    "page.content"
   ]
  },
  {
   "cell_type": "code",
   "execution_count": 42,
   "id": "994e6613",
   "metadata": {},
   "outputs": [],
   "source": [
    "##same code as website code."
   ]
  },
  {
   "cell_type": "code",
   "execution_count": 43,
   "id": "637f3d24",
   "metadata": {},
   "outputs": [],
   "source": [
    "soup = bs(page.content,'html.parser')##to get content of page as html . We can also get xml or json parsers."
   ]
  },
  {
   "cell_type": "code",
   "execution_count": 44,
   "id": "56c67d64",
   "metadata": {},
   "outputs": [
    {
     "data": {
      "text/plain": [
       "<head><title>Not Acceptable!</title></head><body><h1>Not Acceptable!</h1><p>An appropriate representation of the requested resource could not be found on this server. This error was generated by Mod_Security.</p></body>"
      ]
     },
     "execution_count": 44,
     "metadata": {},
     "output_type": "execute_result"
    }
   ],
   "source": [
    "soup"
   ]
  },
  {
   "cell_type": "code",
   "execution_count": 45,
   "id": "012c5ea4",
   "metadata": {},
   "outputs": [],
   "source": [
    "##we get html code of the link."
   ]
  },
  {
   "cell_type": "code",
   "execution_count": 46,
   "id": "a502731c",
   "metadata": {},
   "outputs": [
    {
     "name": "stdout",
     "output_type": "stream",
     "text": [
      "<head>\n",
      " <title>\n",
      "  Not Acceptable!\n",
      " </title>\n",
      "</head>\n",
      "<body>\n",
      " <h1>\n",
      "  Not Acceptable!\n",
      " </h1>\n",
      " <p>\n",
      "  An appropriate representation of the requested resource could not be found on this server. This error was generated by Mod_Security.\n",
      " </p>\n",
      "</body>\n"
     ]
    }
   ],
   "source": [
    "print(soup.prettify())###gives formated output as compared to previous output."
   ]
  },
  {
   "cell_type": "code",
   "execution_count": 47,
   "id": "7f891c05",
   "metadata": {},
   "outputs": [
    {
     "data": {
      "text/plain": [
       "[<head><title>Not Acceptable!</title></head>,\n",
       " <body><h1>Not Acceptable!</h1><p>An appropriate representation of the requested resource could not be found on this server. This error was generated by Mod_Security.</p></body>]"
      ]
     },
     "execution_count": 47,
     "metadata": {},
     "output_type": "execute_result"
    }
   ],
   "source": [
    "list(soup.children)##gives all children related to the soup."
   ]
  },
  {
   "cell_type": "code",
   "execution_count": 49,
   "id": "0a039202",
   "metadata": {},
   "outputs": [
    {
     "data": {
      "text/plain": [
       "<body><h1>Not Acceptable!</h1><p>An appropriate representation of the requested resource could not be found on this server. This error was generated by Mod_Security.</p></body>"
      ]
     },
     "execution_count": 49,
     "metadata": {},
     "output_type": "execute_result"
    }
   ],
   "source": [
    "list(soup.children)[1]"
   ]
  },
  {
   "cell_type": "code",
   "execution_count": 50,
   "id": "06e9906a",
   "metadata": {},
   "outputs": [
    {
     "data": {
      "text/plain": [
       "<body><h1>Not Acceptable!</h1><p>An appropriate representation of the requested resource could not be found on this server. This error was generated by Mod_Security.</p></body>"
      ]
     },
     "execution_count": 50,
     "metadata": {},
     "output_type": "execute_result"
    }
   ],
   "source": [
    "html=list(soup.children)[1]\n",
    "html"
   ]
  },
  {
   "cell_type": "code",
   "execution_count": 51,
   "id": "1ce7d08e",
   "metadata": {},
   "outputs": [
    {
     "data": {
      "text/plain": [
       "[<h1>Not Acceptable!</h1>,\n",
       " <p>An appropriate representation of the requested resource could not be found on this server. This error was generated by Mod_Security.</p>]"
      ]
     },
     "execution_count": 51,
     "metadata": {},
     "output_type": "execute_result"
    }
   ],
   "source": [
    "list(html.children)"
   ]
  },
  {
   "cell_type": "code",
   "execution_count": 55,
   "id": "4a843de9",
   "metadata": {},
   "outputs": [],
   "source": [
    "body=list(html.children)[1]"
   ]
  },
  {
   "cell_type": "code",
   "execution_count": 56,
   "id": "01fcf1cf",
   "metadata": {},
   "outputs": [
    {
     "data": {
      "text/plain": [
       "<p>An appropriate representation of the requested resource could not be found on this server. This error was generated by Mod_Security.</p>"
      ]
     },
     "execution_count": 56,
     "metadata": {},
     "output_type": "execute_result"
    }
   ],
   "source": [
    "body"
   ]
  },
  {
   "cell_type": "code",
   "execution_count": 57,
   "id": "fd8c7069",
   "metadata": {},
   "outputs": [],
   "source": [
    "body1=list(html.children)[0]"
   ]
  },
  {
   "cell_type": "code",
   "execution_count": 58,
   "id": "329f4bce",
   "metadata": {},
   "outputs": [
    {
     "data": {
      "text/plain": [
       "<h1>Not Acceptable!</h1>"
      ]
     },
     "execution_count": 58,
     "metadata": {},
     "output_type": "execute_result"
    }
   ],
   "source": [
    "body1"
   ]
  },
  {
   "cell_type": "code",
   "execution_count": 59,
   "id": "ced1a45c",
   "metadata": {},
   "outputs": [
    {
     "data": {
      "text/plain": [
       "['An appropriate representation of the requested resource could not be found on this server. This error was generated by Mod_Security.']"
      ]
     },
     "execution_count": 59,
     "metadata": {},
     "output_type": "execute_result"
    }
   ],
   "source": [
    "list(body.children)"
   ]
  },
  {
   "cell_type": "code",
   "execution_count": 60,
   "id": "f4eed6de",
   "metadata": {},
   "outputs": [],
   "source": [
    "p=list(body.children)"
   ]
  },
  {
   "cell_type": "code",
   "execution_count": 61,
   "id": "ae82ad84",
   "metadata": {},
   "outputs": [
    {
     "data": {
      "text/plain": [
       "['An appropriate representation of the requested resource could not be found on this server. This error was generated by Mod_Security.']"
      ]
     },
     "execution_count": 61,
     "metadata": {},
     "output_type": "execute_result"
    }
   ],
   "source": [
    "p"
   ]
  },
  {
   "cell_type": "code",
   "execution_count": 62,
   "id": "af83b650",
   "metadata": {},
   "outputs": [],
   "source": [
    "data=body.get_text()"
   ]
  },
  {
   "cell_type": "code",
   "execution_count": 63,
   "id": "a2df697a",
   "metadata": {},
   "outputs": [
    {
     "data": {
      "text/plain": [
       "'An appropriate representation of the requested resource could not be found on this server. This error was generated by Mod_Security.'"
      ]
     },
     "execution_count": 63,
     "metadata": {},
     "output_type": "execute_result"
    }
   ],
   "source": [
    "data"
   ]
  },
  {
   "cell_type": "markdown",
   "id": "ee835450",
   "metadata": {},
   "source": [
    "# IN ABOVE WE PARSED A BASIC HTML PAGE"
   ]
  },
  {
   "cell_type": "markdown",
   "id": "b53fbe8f",
   "metadata": {},
   "source": [
    "# FINDING ALL INSTANCES OF TAG AT ONCE"
   ]
  },
  {
   "cell_type": "code",
   "execution_count": 70,
   "id": "3d6db78d",
   "metadata": {},
   "outputs": [],
   "source": [
    "from bs4 import BeautifulSoup as bs\n",
    "import requests"
   ]
  },
  {
   "cell_type": "code",
   "execution_count": 71,
   "id": "9f18da1e",
   "metadata": {},
   "outputs": [],
   "source": [
    "link=\"https://apptronix.net/webscrap/demo2.html\""
   ]
  },
  {
   "cell_type": "code",
   "execution_count": 72,
   "id": "e175fa6e",
   "metadata": {},
   "outputs": [
    {
     "data": {
      "text/plain": [
       "'https://apptronix.net/webscrap/demo2.html'"
      ]
     },
     "execution_count": 72,
     "metadata": {},
     "output_type": "execute_result"
    }
   ],
   "source": [
    "link"
   ]
  },
  {
   "cell_type": "code",
   "execution_count": 73,
   "id": "4786ca78",
   "metadata": {},
   "outputs": [],
   "source": [
    "page=requests.get(link)"
   ]
  },
  {
   "cell_type": "code",
   "execution_count": 74,
   "id": "ad4a9ade",
   "metadata": {},
   "outputs": [
    {
     "data": {
      "text/plain": [
       "<Response [406]>"
      ]
     },
     "execution_count": 74,
     "metadata": {},
     "output_type": "execute_result"
    }
   ],
   "source": [
    "page"
   ]
  },
  {
   "cell_type": "code",
   "execution_count": 75,
   "id": "bf8515c1",
   "metadata": {},
   "outputs": [
    {
     "data": {
      "text/plain": [
       "b'<head><title>Not Acceptable!</title></head><body><h1>Not Acceptable!</h1><p>An appropriate representation of the requested resource could not be found on this server. This error was generated by Mod_Security.</p></body></html>'"
      ]
     },
     "execution_count": 75,
     "metadata": {},
     "output_type": "execute_result"
    }
   ],
   "source": [
    "page.content"
   ]
  },
  {
   "cell_type": "code",
   "execution_count": 76,
   "id": "caef5b54",
   "metadata": {},
   "outputs": [],
   "source": [
    "soup=bs(page.content,'html.parser')"
   ]
  },
  {
   "cell_type": "code",
   "execution_count": 77,
   "id": "a0dbeab5",
   "metadata": {},
   "outputs": [
    {
     "data": {
      "text/plain": [
       "<head><title>Not Acceptable!</title></head><body><h1>Not Acceptable!</h1><p>An appropriate representation of the requested resource could not be found on this server. This error was generated by Mod_Security.</p></body>"
      ]
     },
     "execution_count": 77,
     "metadata": {},
     "output_type": "execute_result"
    }
   ],
   "source": [
    "soup"
   ]
  },
  {
   "cell_type": "code",
   "execution_count": 78,
   "id": "7ded2c30",
   "metadata": {},
   "outputs": [
    {
     "name": "stdout",
     "output_type": "stream",
     "text": [
      "<head>\n",
      " <title>\n",
      "  Not Acceptable!\n",
      " </title>\n",
      "</head>\n",
      "<body>\n",
      " <h1>\n",
      "  Not Acceptable!\n",
      " </h1>\n",
      " <p>\n",
      "  An appropriate representation of the requested resource could not be found on this server. This error was generated by Mod_Security.\n",
      " </p>\n",
      "</body>\n"
     ]
    }
   ],
   "source": [
    "print(soup.prettify())"
   ]
  },
  {
   "cell_type": "code",
   "execution_count": 79,
   "id": "4a775f5c",
   "metadata": {},
   "outputs": [
    {
     "data": {
      "text/plain": [
       "[<p>An appropriate representation of the requested resource could not be found on this server. This error was generated by Mod_Security.</p>]"
      ]
     },
     "execution_count": 79,
     "metadata": {},
     "output_type": "execute_result"
    }
   ],
   "source": [
    "soup.find_all('p')##to find all p tags."
   ]
  },
  {
   "cell_type": "code",
   "execution_count": 82,
   "id": "94024f93",
   "metadata": {},
   "outputs": [
    {
     "data": {
      "text/plain": [
       "'An appropriate representation of the requested resource could not be found on this server. This error was generated by Mod_Security.'"
      ]
     },
     "execution_count": 82,
     "metadata": {},
     "output_type": "execute_result"
    }
   ],
   "source": [
    "soup.find_all('p')[0].get_text()##get_text to get all text inside a particular tag."
   ]
  },
  {
   "cell_type": "code",
   "execution_count": 83,
   "id": "77fe44bc",
   "metadata": {},
   "outputs": [
    {
     "data": {
      "text/plain": [
       "<p>An appropriate representation of the requested resource could not be found on this server. This error was generated by Mod_Security.</p>"
      ]
     },
     "execution_count": 83,
     "metadata": {},
     "output_type": "execute_result"
    }
   ],
   "source": [
    "soup.find('p')##find the first paragragh tag."
   ]
  },
  {
   "cell_type": "markdown",
   "id": "cbbc7477",
   "metadata": {},
   "source": [
    "# SEARCHING THE TAGS BY CLASS OR ID"
   ]
  },
  {
   "cell_type": "code",
   "execution_count": 99,
   "id": "95ae71f0",
   "metadata": {},
   "outputs": [],
   "source": [
    "link=\"https://apptronix.net/webscrap/demo3.html\""
   ]
  },
  {
   "cell_type": "code",
   "execution_count": 100,
   "id": "21eee51c",
   "metadata": {},
   "outputs": [],
   "source": [
    "page=requests.get(link)"
   ]
  },
  {
   "cell_type": "code",
   "execution_count": 101,
   "id": "66f6ae38",
   "metadata": {},
   "outputs": [
    {
     "data": {
      "text/plain": [
       "<Response [406]>"
      ]
     },
     "execution_count": 101,
     "metadata": {},
     "output_type": "execute_result"
    }
   ],
   "source": [
    "page"
   ]
  },
  {
   "cell_type": "code",
   "execution_count": 102,
   "id": "f4dd464c",
   "metadata": {},
   "outputs": [
    {
     "data": {
      "text/plain": [
       "b'<head><title>Not Acceptable!</title></head><body><h1>Not Acceptable!</h1><p>An appropriate representation of the requested resource could not be found on this server. This error was generated by Mod_Security.</p></body></html>'"
      ]
     },
     "execution_count": 102,
     "metadata": {},
     "output_type": "execute_result"
    }
   ],
   "source": [
    "page.content"
   ]
  },
  {
   "cell_type": "code",
   "execution_count": 103,
   "id": "40945d91",
   "metadata": {},
   "outputs": [],
   "source": [
    "soup=bs(page.content,'html.parser')"
   ]
  },
  {
   "cell_type": "code",
   "execution_count": 104,
   "id": "5ae7c73c",
   "metadata": {},
   "outputs": [
    {
     "data": {
      "text/plain": [
       "'<head>\\n <title>\\n  Not Acceptable!\\n </title>\\n</head>\\n<body>\\n <h1>\\n  Not Acceptable!\\n </h1>\\n <p>\\n  An appropriate representation of the requested resource could not be found on this server. This error was generated by Mod_Security.\\n </p>\\n</body>'"
      ]
     },
     "execution_count": 104,
     "metadata": {},
     "output_type": "execute_result"
    }
   ],
   "source": [
    "soup.prettify()"
   ]
  },
  {
   "cell_type": "code",
   "execution_count": 105,
   "id": "136838a3",
   "metadata": {},
   "outputs": [
    {
     "name": "stdout",
     "output_type": "stream",
     "text": [
      "<head>\n",
      " <title>\n",
      "  Not Acceptable!\n",
      " </title>\n",
      "</head>\n",
      "<body>\n",
      " <h1>\n",
      "  Not Acceptable!\n",
      " </h1>\n",
      " <p>\n",
      "  An appropriate representation of the requested resource could not be found on this server. This error was generated by Mod_Security.\n",
      " </p>\n",
      "</body>\n"
     ]
    }
   ],
   "source": [
    "print(soup.prettify())"
   ]
  },
  {
   "cell_type": "code",
   "execution_count": 106,
   "id": "b7ea3b70",
   "metadata": {},
   "outputs": [
    {
     "data": {
      "text/plain": [
       "[]"
      ]
     },
     "execution_count": 106,
     "metadata": {},
     "output_type": "execute_result"
    }
   ],
   "source": [
    "soup.find_all('p',class_='outer-text')###for searching all p tags with class of outer-text."
   ]
  },
  {
   "cell_type": "code",
   "execution_count": 107,
   "id": "9ef08c6f",
   "metadata": {},
   "outputs": [
    {
     "data": {
      "text/plain": [
       "[]"
      ]
     },
     "execution_count": 107,
     "metadata": {},
     "output_type": "execute_result"
    }
   ],
   "source": [
    "soup.find_all('p',id='first')##searching all p tags with id first."
   ]
  },
  {
   "cell_type": "code",
   "execution_count": 108,
   "id": "6d39fba5",
   "metadata": {},
   "outputs": [],
   "source": [
    "###above 2 commands help in search by class or id."
   ]
  },
  {
   "cell_type": "markdown",
   "id": "811fef0f",
   "metadata": {},
   "source": [
    "# USING CSS SELECTORS"
   ]
  },
  {
   "cell_type": "code",
   "execution_count": 109,
   "id": "3c290263",
   "metadata": {},
   "outputs": [
    {
     "data": {
      "text/plain": [
       "[]"
      ]
     },
     "execution_count": 109,
     "metadata": {},
     "output_type": "execute_result"
    }
   ],
   "source": [
    "soup.select(\"div p\")##inside the div tag i have to search of p tags."
   ]
  },
  {
   "cell_type": "code",
   "execution_count": 110,
   "id": "7575cd7f",
   "metadata": {},
   "outputs": [
    {
     "data": {
      "text/plain": [
       "[]"
      ]
     },
     "execution_count": 110,
     "metadata": {},
     "output_type": "execute_result"
    }
   ],
   "source": [
    "soup.select(\"div p.first-item\") ##to select inside the div tag the p tag having class of first-item."
   ]
  },
  {
   "cell_type": "code",
   "execution_count": 111,
   "id": "061de19d",
   "metadata": {},
   "outputs": [
    {
     "data": {
      "text/plain": [
       "[]"
      ]
     },
     "execution_count": 111,
     "metadata": {},
     "output_type": "execute_result"
    }
   ],
   "source": [
    "soup.select(\"div p#first\")###to select id first of p tag. "
   ]
  },
  {
   "cell_type": "code",
   "execution_count": 112,
   "id": "f674d5c4",
   "metadata": {},
   "outputs": [
    {
     "data": {
      "text/plain": [
       "[]"
      ]
     },
     "execution_count": 112,
     "metadata": {},
     "output_type": "execute_result"
    }
   ],
   "source": [
    "##inside the body tag search for the p tag having class outer-text\n",
    "soup.select(\"body p.outer-text\")"
   ]
  },
  {
   "cell_type": "code",
   "execution_count": 113,
   "id": "0c57f9ac",
   "metadata": {},
   "outputs": [
    {
     "data": {
      "text/plain": [
       "[]"
      ]
     },
     "execution_count": 113,
     "metadata": {},
     "output_type": "execute_result"
    }
   ],
   "source": [
    "soup.find_all('a')##search for all a tags."
   ]
  },
  {
   "cell_type": "code",
   "execution_count": 114,
   "id": "d90e0f65",
   "metadata": {},
   "outputs": [],
   "source": [
    "soup.find(id=\"link-3\")###to find the a or angular href tag having id=link3"
   ]
  },
  {
   "cell_type": "code",
   "execution_count": 115,
   "id": "1505190a",
   "metadata": {},
   "outputs": [],
   "source": [
    "my_links=soup.find_all('a')"
   ]
  },
  {
   "cell_type": "code",
   "execution_count": 116,
   "id": "bb37c765",
   "metadata": {},
   "outputs": [
    {
     "data": {
      "text/plain": [
       "[]"
      ]
     },
     "execution_count": 116,
     "metadata": {},
     "output_type": "execute_result"
    }
   ],
   "source": [
    "my_links"
   ]
  },
  {
   "cell_type": "code",
   "execution_count": 117,
   "id": "34a60db4",
   "metadata": {},
   "outputs": [],
   "source": [
    "links=[]\n",
    "for link in my_links:\n",
    "    links.append(link.get('href'))\n",
    "##the above program helps in getting all links inside the angula or a tag kept in my_links."
   ]
  },
  {
   "cell_type": "code",
   "execution_count": 118,
   "id": "b326639d",
   "metadata": {},
   "outputs": [
    {
     "data": {
      "text/plain": [
       "[]"
      ]
     },
     "execution_count": 118,
     "metadata": {},
     "output_type": "execute_result"
    }
   ],
   "source": [
    "links"
   ]
  },
  {
   "cell_type": "code",
   "execution_count": null,
   "id": "1da54793",
   "metadata": {},
   "outputs": [],
   "source": [
    "### LINK FOR UMANG SIR WEBSCRAPING PLAYLIST-> https://www.youtube.com/playlist?list=PLfNXG56H-jTvDt_BrLT65hy-vUrs7vkT9"
   ]
  }
 ],
 "metadata": {
  "kernelspec": {
   "display_name": "Python 3 (ipykernel)",
   "language": "python",
   "name": "python3"
  },
  "language_info": {
   "codemirror_mode": {
    "name": "ipython",
    "version": 3
   },
   "file_extension": ".py",
   "mimetype": "text/x-python",
   "name": "python",
   "nbconvert_exporter": "python",
   "pygments_lexer": "ipython3",
   "version": "3.9.7"
  }
 },
 "nbformat": 4,
 "nbformat_minor": 5
}

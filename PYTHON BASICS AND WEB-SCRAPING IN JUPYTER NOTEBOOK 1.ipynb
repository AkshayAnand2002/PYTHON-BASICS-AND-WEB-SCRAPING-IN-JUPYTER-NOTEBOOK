{
 "cells": [
  {
   "cell_type": "code",
   "execution_count": 1,
   "id": "38b96546",
   "metadata": {},
   "outputs": [],
   "source": [
    "a=2"
   ]
  },
  {
   "cell_type": "code",
   "execution_count": 2,
   "id": "abd5bcb8",
   "metadata": {},
   "outputs": [
    {
     "data": {
      "text/plain": [
       "int"
      ]
     },
     "execution_count": 2,
     "metadata": {},
     "output_type": "execute_result"
    }
   ],
   "source": [
    "type(a)"
   ]
  },
  {
   "cell_type": "code",
   "execution_count": 3,
   "id": "d3f92aa9",
   "metadata": {},
   "outputs": [],
   "source": [
    "a=2.2"
   ]
  },
  {
   "cell_type": "code",
   "execution_count": 4,
   "id": "bfc8106a",
   "metadata": {},
   "outputs": [
    {
     "data": {
      "text/plain": [
       "float"
      ]
     },
     "execution_count": 4,
     "metadata": {},
     "output_type": "execute_result"
    }
   ],
   "source": [
    "type(a)"
   ]
  },
  {
   "cell_type": "code",
   "execution_count": 5,
   "id": "4aff97b9",
   "metadata": {},
   "outputs": [
    {
     "data": {
      "text/plain": [
       "'we are learning python'"
      ]
     },
     "execution_count": 5,
     "metadata": {},
     "output_type": "execute_result"
    }
   ],
   "source": [
    "a=\"we are learning python\"\n",
    "a"
   ]
  },
  {
   "cell_type": "code",
   "execution_count": 6,
   "id": "397125e5",
   "metadata": {},
   "outputs": [
    {
     "data": {
      "text/plain": [
       "str"
      ]
     },
     "execution_count": 6,
     "metadata": {},
     "output_type": "execute_result"
    }
   ],
   "source": [
    "type(a)"
   ]
  },
  {
   "cell_type": "code",
   "execution_count": 7,
   "id": "970550ff",
   "metadata": {},
   "outputs": [
    {
     "data": {
      "text/plain": [
       "bool"
      ]
     },
     "execution_count": 7,
     "metadata": {},
     "output_type": "execute_result"
    }
   ],
   "source": [
    "s= True\n",
    "type(s)"
   ]
  },
  {
   "cell_type": "code",
   "execution_count": 8,
   "id": "68f3c75d",
   "metadata": {},
   "outputs": [
    {
     "data": {
      "text/plain": [
       "complex"
      ]
     },
     "execution_count": 8,
     "metadata": {},
     "output_type": "execute_result"
    }
   ],
   "source": [
    "c=23+5j\n",
    "type(c)"
   ]
  },
  {
   "cell_type": "code",
   "execution_count": 9,
   "id": "0f2a9cda",
   "metadata": {},
   "outputs": [
    {
     "data": {
      "text/plain": [
       "'we are'"
      ]
     },
     "execution_count": 9,
     "metadata": {},
     "output_type": "execute_result"
    }
   ],
   "source": [
    "str=\"we are learning python\"\n",
    "str[0:6]"
   ]
  },
  {
   "cell_type": "code",
   "execution_count": 10,
   "id": "3b79ccf2",
   "metadata": {},
   "outputs": [
    {
     "data": {
      "text/plain": [
       "'w'"
      ]
     },
     "execution_count": 10,
     "metadata": {},
     "output_type": "execute_result"
    }
   ],
   "source": [
    "str[0]"
   ]
  },
  {
   "cell_type": "code",
   "execution_count": 11,
   "id": "ea40825f",
   "metadata": {},
   "outputs": [
    {
     "data": {
      "text/plain": [
       "'o'"
      ]
     },
     "execution_count": 11,
     "metadata": {},
     "output_type": "execute_result"
    }
   ],
   "source": [
    "str[-2]"
   ]
  },
  {
   "cell_type": "code",
   "execution_count": 12,
   "id": "6878b036",
   "metadata": {},
   "outputs": [
    {
     "data": {
      "text/plain": [
       "'e are learning pyth'"
      ]
     },
     "execution_count": 12,
     "metadata": {},
     "output_type": "execute_result"
    }
   ],
   "source": [
    "str[1:-2]##starts from index=1 and ends at index before -2 i.e at -3 as -2 is excluded."
   ]
  },
  {
   "cell_type": "code",
   "execution_count": 13,
   "id": "dee203a6",
   "metadata": {},
   "outputs": [
    {
     "data": {
      "text/plain": [
       "'we are learning pyth'"
      ]
     },
     "execution_count": 13,
     "metadata": {},
     "output_type": "execute_result"
    }
   ],
   "source": [
    "str[:-2]##prints everything before index -2 i.e. till -3."
   ]
  },
  {
   "cell_type": "code",
   "execution_count": 14,
   "id": "11ad0698",
   "metadata": {},
   "outputs": [
    {
     "data": {
      "text/plain": [
       "'e are learning python'"
      ]
     },
     "execution_count": 14,
     "metadata": {},
     "output_type": "execute_result"
    }
   ],
   "source": [
    "str[1:]"
   ]
  },
  {
   "cell_type": "code",
   "execution_count": 15,
   "id": "a4b99d59",
   "metadata": {},
   "outputs": [
    {
     "data": {
      "text/plain": [
       "'we are learning python'"
      ]
     },
     "execution_count": 15,
     "metadata": {},
     "output_type": "execute_result"
    }
   ],
   "source": [
    "str"
   ]
  },
  {
   "cell_type": "code",
   "execution_count": 16,
   "id": "3ee7ee7f",
   "metadata": {},
   "outputs": [
    {
     "data": {
      "text/plain": [
       "'We are learning python'"
      ]
     },
     "execution_count": 16,
     "metadata": {},
     "output_type": "execute_result"
    }
   ],
   "source": [
    "str.capitalize()##capitalizes the first letter of string"
   ]
  },
  {
   "cell_type": "code",
   "execution_count": 17,
   "id": "d5330407",
   "metadata": {},
   "outputs": [
    {
     "data": {
      "text/plain": [
       "'hello hihihihihi'"
      ]
     },
     "execution_count": 17,
     "metadata": {},
     "output_type": "execute_result"
    }
   ],
   "source": [
    "str1=\"HELLO HIHIHIHIHI\"\n",
    "str1.lower()###converts all letters to lowercase."
   ]
  },
  {
   "cell_type": "code",
   "execution_count": 18,
   "id": "d623e822",
   "metadata": {},
   "outputs": [
    {
     "data": {
      "text/plain": [
       "'WE ARE LEARNING PYTHON'"
      ]
     },
     "execution_count": 18,
     "metadata": {},
     "output_type": "execute_result"
    }
   ],
   "source": [
    "str.upper()##converts all letters to uppercase."
   ]
  },
  {
   "cell_type": "code",
   "execution_count": 19,
   "id": "f40114b0",
   "metadata": {},
   "outputs": [
    {
     "data": {
      "text/plain": [
       "'we are learning python'"
      ]
     },
     "execution_count": 19,
     "metadata": {},
     "output_type": "execute_result"
    }
   ],
   "source": [
    "str\n",
    "###we get str of smaller case only"
   ]
  },
  {
   "cell_type": "code",
   "execution_count": 20,
   "id": "ab75eb59",
   "metadata": {},
   "outputs": [],
   "source": [
    "##to store str of uppercase we do--\n",
    "str=str.upper()"
   ]
  },
  {
   "cell_type": "code",
   "execution_count": 21,
   "id": "92d3623a",
   "metadata": {},
   "outputs": [
    {
     "data": {
      "text/plain": [
       "'WE ARE LEARNING PYTHON'"
      ]
     },
     "execution_count": 21,
     "metadata": {},
     "output_type": "execute_result"
    }
   ],
   "source": [
    "str##uppercase"
   ]
  },
  {
   "cell_type": "code",
   "execution_count": 22,
   "id": "ca9ba5c7",
   "metadata": {},
   "outputs": [
    {
     "data": {
      "text/plain": [
       "0"
      ]
     },
     "execution_count": 22,
     "metadata": {},
     "output_type": "execute_result"
    }
   ],
   "source": [
    "str.count('a')###output is 0 as no small-case a in str as we converted it into uppercase. "
   ]
  },
  {
   "cell_type": "code",
   "execution_count": 23,
   "id": "95247979",
   "metadata": {},
   "outputs": [
    {
     "data": {
      "text/plain": [
       "2"
      ]
     },
     "execution_count": 23,
     "metadata": {},
     "output_type": "execute_result"
    }
   ],
   "source": [
    "str.count('A')"
   ]
  },
  {
   "cell_type": "code",
   "execution_count": 24,
   "id": "0c44bf30",
   "metadata": {},
   "outputs": [
    {
     "data": {
      "text/plain": [
       "1"
      ]
     },
     "execution_count": 24,
     "metadata": {},
     "output_type": "execute_result"
    }
   ],
   "source": [
    "str.count('WE')##COUNT STRING WE "
   ]
  },
  {
   "cell_type": "code",
   "execution_count": 25,
   "id": "af6e3d07",
   "metadata": {},
   "outputs": [
    {
     "data": {
      "text/plain": [
       "16"
      ]
     },
     "execution_count": 25,
     "metadata": {},
     "output_type": "execute_result"
    }
   ],
   "source": [
    "str.find(\"PYTHON\")##FINDS INDEX OF STARTING LETTER OF WORD OF WHOSE THE INDEX WE HAVE TO FIND."
   ]
  },
  {
   "cell_type": "code",
   "execution_count": 26,
   "id": "457475bf",
   "metadata": {},
   "outputs": [
    {
     "data": {
      "text/plain": [
       "'WE ARE LEARNING ANANCONDA'"
      ]
     },
     "execution_count": 26,
     "metadata": {},
     "output_type": "execute_result"
    }
   ],
   "source": [
    "str.replace(\"PYTHON\",\"ANANCONDA\")##TO REPLACE OLD WORD PYTHON WITH NEW WORD ANANCONDA"
   ]
  },
  {
   "cell_type": "code",
   "execution_count": 27,
   "id": "ce059450",
   "metadata": {},
   "outputs": [
    {
     "data": {
      "text/plain": [
       "'We Are Learning Python'"
      ]
     },
     "execution_count": 27,
     "metadata": {},
     "output_type": "execute_result"
    }
   ],
   "source": [
    "str.title()###converts first letter of each and every word into capital letter."
   ]
  },
  {
   "cell_type": "markdown",
   "id": "9df765aa",
   "metadata": {},
   "source": [
    "# The Above Was PRIMITIVE DATA TYPE (EG-STRINGS)"
   ]
  },
  {
   "cell_type": "markdown",
   "id": "c9b7a522",
   "metadata": {},
   "source": [
    "# THE CORE DATA TYPES ARE \n",
    "*LISTS \n",
    "*TUPLES \n",
    "*DICTIONARY"
   ]
  },
  {
   "cell_type": "code",
   "execution_count": 28,
   "id": "a785a9e1",
   "metadata": {},
   "outputs": [],
   "source": [
    "##ARRAY CONTAINS VALUES OF ONLY DATATYPE BUT LIST CAN CONTAIN VALUES OF DIFFERENT DATA-TYPES ALSO."
   ]
  },
  {
   "cell_type": "code",
   "execution_count": 29,
   "id": "3d6f42b7",
   "metadata": {},
   "outputs": [
    {
     "data": {
      "text/plain": [
       "[]"
      ]
     },
     "execution_count": 29,
     "metadata": {},
     "output_type": "execute_result"
    }
   ],
   "source": [
    "list=[]##blank list\n",
    "list"
   ]
  },
  {
   "cell_type": "code",
   "execution_count": 30,
   "id": "aad0d3e2",
   "metadata": {},
   "outputs": [
    {
     "data": {
      "text/plain": [
       "list"
      ]
     },
     "execution_count": 30,
     "metadata": {},
     "output_type": "execute_result"
    }
   ],
   "source": [
    "type(list)"
   ]
  },
  {
   "cell_type": "code",
   "execution_count": 31,
   "id": "41598c87",
   "metadata": {},
   "outputs": [],
   "source": [
    "list=[1,2.5,False,\"Akshay\",34+5j]"
   ]
  },
  {
   "cell_type": "code",
   "execution_count": 32,
   "id": "160e2729",
   "metadata": {},
   "outputs": [
    {
     "data": {
      "text/plain": [
       "[1, 2.5, False, 'Akshay', (34+5j)]"
      ]
     },
     "execution_count": 32,
     "metadata": {},
     "output_type": "execute_result"
    }
   ],
   "source": [
    "list"
   ]
  },
  {
   "cell_type": "code",
   "execution_count": 33,
   "id": "40c41d4a",
   "metadata": {},
   "outputs": [],
   "source": [
    "list1=[1,2,3,4,5]\n",
    "list2=[5,6,7,8,9]"
   ]
  },
  {
   "cell_type": "code",
   "execution_count": 34,
   "id": "789b7b16",
   "metadata": {},
   "outputs": [
    {
     "data": {
      "text/plain": [
       "[1, 2, 3, 4, 5, 5, 6, 7, 8, 9]"
      ]
     },
     "execution_count": 34,
     "metadata": {},
     "output_type": "execute_result"
    }
   ],
   "source": [
    "list1+list2###contatenates the values of 2 lists"
   ]
  },
  {
   "cell_type": "code",
   "execution_count": 35,
   "id": "57ceabbd",
   "metadata": {},
   "outputs": [
    {
     "data": {
      "text/plain": [
       "[1, 2, 3, 4, 5, 5, 6, 7, 8, 9]"
      ]
     },
     "execution_count": 35,
     "metadata": {},
     "output_type": "execute_result"
    }
   ],
   "source": [
    "list3=list1+list2\n",
    "list3"
   ]
  },
  {
   "cell_type": "code",
   "execution_count": 36,
   "id": "dd9b3eca",
   "metadata": {},
   "outputs": [
    {
     "data": {
      "text/plain": [
       "'Akshay'"
      ]
     },
     "execution_count": 36,
     "metadata": {},
     "output_type": "execute_result"
    }
   ],
   "source": [
    "list[3]"
   ]
  },
  {
   "cell_type": "code",
   "execution_count": 37,
   "id": "6b6a744e",
   "metadata": {},
   "outputs": [
    {
     "data": {
      "text/plain": [
       "[1, 2.5, False]"
      ]
     },
     "execution_count": 37,
     "metadata": {},
     "output_type": "execute_result"
    }
   ],
   "source": [
    "list[0:3]"
   ]
  },
  {
   "cell_type": "code",
   "execution_count": 39,
   "id": "f7e1603f",
   "metadata": {},
   "outputs": [],
   "source": [
    "list.append(\"DATA SCIENCE\")\n",
    "list.append(\"DATA SCIENCE\")"
   ]
  },
  {
   "cell_type": "code",
   "execution_count": 40,
   "id": "2f60d571",
   "metadata": {},
   "outputs": [
    {
     "data": {
      "text/plain": [
       "[1, 2.5, False, 'Akshay', (34+5j), 'DATA SCIENCE', 'DATA SCIENCE']"
      ]
     },
     "execution_count": 40,
     "metadata": {},
     "output_type": "execute_result"
    }
   ],
   "source": [
    "list"
   ]
  },
  {
   "cell_type": "code",
   "execution_count": 41,
   "id": "b1a54f09",
   "metadata": {},
   "outputs": [],
   "source": [
    "list.insert(2,45.6)##to insert value 45.6 at index 2."
   ]
  },
  {
   "cell_type": "code",
   "execution_count": 42,
   "id": "c3a26254",
   "metadata": {},
   "outputs": [
    {
     "data": {
      "text/plain": [
       "[1, 2.5, 45.6, False, 'Akshay', (34+5j), 'DATA SCIENCE', 'DATA SCIENCE']"
      ]
     },
     "execution_count": 42,
     "metadata": {},
     "output_type": "execute_result"
    }
   ],
   "source": [
    "list"
   ]
  },
  {
   "cell_type": "code",
   "execution_count": 43,
   "id": "263d1a5e",
   "metadata": {},
   "outputs": [],
   "source": [
    "list4=list.copy()##copies all data of list to list4"
   ]
  },
  {
   "cell_type": "code",
   "execution_count": 44,
   "id": "d21865cb",
   "metadata": {},
   "outputs": [
    {
     "data": {
      "text/plain": [
       "[1, 2.5, 45.6, False, 'Akshay', (34+5j), 'DATA SCIENCE', 'DATA SCIENCE']"
      ]
     },
     "execution_count": 44,
     "metadata": {},
     "output_type": "execute_result"
    }
   ],
   "source": [
    "list4"
   ]
  },
  {
   "cell_type": "code",
   "execution_count": 45,
   "id": "bec6908d",
   "metadata": {},
   "outputs": [
    {
     "data": {
      "text/plain": [
       "1"
      ]
     },
     "execution_count": 45,
     "metadata": {},
     "output_type": "execute_result"
    }
   ],
   "source": [
    "list.count(2.5)"
   ]
  },
  {
   "cell_type": "code",
   "execution_count": 46,
   "id": "9d915648",
   "metadata": {},
   "outputs": [
    {
     "data": {
      "text/plain": [
       "1"
      ]
     },
     "execution_count": 46,
     "metadata": {},
     "output_type": "execute_result"
    }
   ],
   "source": [
    "list4.count(2.5)"
   ]
  },
  {
   "cell_type": "code",
   "execution_count": 47,
   "id": "2cb657a0",
   "metadata": {},
   "outputs": [],
   "source": [
    "list4.insert(3,2.5)"
   ]
  },
  {
   "cell_type": "code",
   "execution_count": 48,
   "id": "208f6b46",
   "metadata": {},
   "outputs": [
    {
     "data": {
      "text/plain": [
       "2"
      ]
     },
     "execution_count": 48,
     "metadata": {},
     "output_type": "execute_result"
    }
   ],
   "source": [
    "list4\n",
    "list4.count(2.5)"
   ]
  },
  {
   "cell_type": "code",
   "execution_count": 49,
   "id": "da3762ea",
   "metadata": {},
   "outputs": [
    {
     "data": {
      "text/plain": [
       "[1, 2.5, 45.6, 2.5, False, 'Akshay', (34+5j), 'DATA SCIENCE', 'DATA SCIENCE']"
      ]
     },
     "execution_count": 49,
     "metadata": {},
     "output_type": "execute_result"
    }
   ],
   "source": [
    "list4"
   ]
  },
  {
   "cell_type": "code",
   "execution_count": 50,
   "id": "a4855b4c",
   "metadata": {},
   "outputs": [
    {
     "data": {
      "text/plain": [
       "5"
      ]
     },
     "execution_count": 50,
     "metadata": {},
     "output_type": "execute_result"
    }
   ],
   "source": [
    "list4.index(\"Akshay\")"
   ]
  },
  {
   "cell_type": "code",
   "execution_count": 51,
   "id": "64b4d39c",
   "metadata": {},
   "outputs": [
    {
     "data": {
      "text/plain": [
       "(34+5j)"
      ]
     },
     "execution_count": 51,
     "metadata": {},
     "output_type": "execute_result"
    }
   ],
   "source": [
    "list4.pop(6)##to delete the 6th index element"
   ]
  },
  {
   "cell_type": "code",
   "execution_count": 52,
   "id": "fb7191f8",
   "metadata": {},
   "outputs": [
    {
     "data": {
      "text/plain": [
       "[1, 2.5, 45.6, 2.5, False, 'Akshay', 'DATA SCIENCE', 'DATA SCIENCE']"
      ]
     },
     "execution_count": 52,
     "metadata": {},
     "output_type": "execute_result"
    }
   ],
   "source": [
    "list4"
   ]
  },
  {
   "cell_type": "code",
   "execution_count": 53,
   "id": "1befc4b0",
   "metadata": {},
   "outputs": [],
   "source": [
    "list5=[43,41,2,57,78,74,90,89,86]\n",
    "list5.sort()"
   ]
  },
  {
   "cell_type": "code",
   "execution_count": 54,
   "id": "666f508c",
   "metadata": {},
   "outputs": [
    {
     "data": {
      "text/plain": [
       "[2, 41, 43, 57, 74, 78, 86, 89, 90]"
      ]
     },
     "execution_count": 54,
     "metadata": {},
     "output_type": "execute_result"
    }
   ],
   "source": [
    "list5"
   ]
  },
  {
   "cell_type": "code",
   "execution_count": 55,
   "id": "be58e70d",
   "metadata": {},
   "outputs": [],
   "source": [
    "###above does in ascending order\n",
    "##for descending order.\n",
    "list5.sort(reverse=True)"
   ]
  },
  {
   "cell_type": "code",
   "execution_count": 56,
   "id": "99577370",
   "metadata": {},
   "outputs": [
    {
     "data": {
      "text/plain": [
       "[90, 89, 86, 78, 74, 57, 43, 41, 2]"
      ]
     },
     "execution_count": 56,
     "metadata": {},
     "output_type": "execute_result"
    }
   ],
   "source": [
    "list5"
   ]
  },
  {
   "cell_type": "code",
   "execution_count": 57,
   "id": "797f4c61",
   "metadata": {},
   "outputs": [],
   "source": [
    "##another way to delete values from list.\n",
    "list5.remove(78)"
   ]
  },
  {
   "cell_type": "code",
   "execution_count": 58,
   "id": "32d70683",
   "metadata": {},
   "outputs": [
    {
     "data": {
      "text/plain": [
       "[90, 89, 86, 74, 57, 43, 41, 2]"
      ]
     },
     "execution_count": 58,
     "metadata": {},
     "output_type": "execute_result"
    }
   ],
   "source": [
    "list5"
   ]
  },
  {
   "cell_type": "code",
   "execution_count": 69,
   "id": "ae008a9a",
   "metadata": {},
   "outputs": [],
   "source": [
    "list5.clear()##to clear all the data in the list5"
   ]
  },
  {
   "cell_type": "code",
   "execution_count": 70,
   "id": "f1ff4295",
   "metadata": {},
   "outputs": [
    {
     "data": {
      "text/plain": [
       "[]"
      ]
     },
     "execution_count": 70,
     "metadata": {},
     "output_type": "execute_result"
    }
   ],
   "source": [
    "list5##blank list as whole data cleared"
   ]
  },
  {
   "cell_type": "markdown",
   "id": "b7405a42",
   "metadata": {},
   "source": [
    "# TUPLE"
   ]
  },
  {
   "cell_type": "code",
   "execution_count": 59,
   "id": "738d2e11",
   "metadata": {},
   "outputs": [
    {
     "data": {
      "text/plain": [
       "()"
      ]
     },
     "execution_count": 59,
     "metadata": {},
     "output_type": "execute_result"
    }
   ],
   "source": [
    "tuple=()\n",
    "tuple"
   ]
  },
  {
   "cell_type": "code",
   "execution_count": 60,
   "id": "57c8647f",
   "metadata": {},
   "outputs": [
    {
     "data": {
      "text/plain": [
       "tuple"
      ]
     },
     "execution_count": 60,
     "metadata": {},
     "output_type": "execute_result"
    }
   ],
   "source": [
    "type(tuple)"
   ]
  },
  {
   "cell_type": "code",
   "execution_count": 61,
   "id": "e5115de1",
   "metadata": {},
   "outputs": [],
   "source": [
    "tuple=(12,2.5,\"Akshay\",True,34+6j)"
   ]
  },
  {
   "cell_type": "code",
   "execution_count": 62,
   "id": "37a423c8",
   "metadata": {},
   "outputs": [
    {
     "data": {
      "text/plain": [
       "(12, 2.5, 'Akshay', True, (34+6j))"
      ]
     },
     "execution_count": 62,
     "metadata": {},
     "output_type": "execute_result"
    }
   ],
   "source": [
    "tuple"
   ]
  },
  {
   "cell_type": "code",
   "execution_count": 63,
   "id": "efb453fc",
   "metadata": {},
   "outputs": [
    {
     "data": {
      "text/plain": [
       "(34+6j)"
      ]
     },
     "execution_count": 63,
     "metadata": {},
     "output_type": "execute_result"
    }
   ],
   "source": [
    "tuple[4]"
   ]
  },
  {
   "cell_type": "code",
   "execution_count": 64,
   "id": "efccf5df",
   "metadata": {},
   "outputs": [
    {
     "data": {
      "text/plain": [
       "(12, 2.5, 'Akshay', True)"
      ]
     },
     "execution_count": 64,
     "metadata": {},
     "output_type": "execute_result"
    }
   ],
   "source": [
    "tuple[0:4]###4 is not included here."
   ]
  },
  {
   "cell_type": "code",
   "execution_count": 65,
   "id": "8a93d34c",
   "metadata": {},
   "outputs": [
    {
     "data": {
      "text/plain": [
       "(12, 2.5, 'Akshay', True)"
      ]
     },
     "execution_count": 65,
     "metadata": {},
     "output_type": "execute_result"
    }
   ],
   "source": [
    "tuple[0:-1]##prints tuple from 0 to -1 excluding -1 th element."
   ]
  },
  {
   "cell_type": "code",
   "execution_count": 66,
   "id": "d3b3ef8c",
   "metadata": {},
   "outputs": [],
   "source": [
    "###IN TUPLE WE DON'T HAVE REMOVE,INSERT ETC AS WE CAN'T CHANGE VALUES ONCE INSERTED INTO TUPLES."
   ]
  },
  {
   "cell_type": "code",
   "execution_count": 67,
   "id": "272a9a15",
   "metadata": {},
   "outputs": [
    {
     "data": {
      "text/plain": [
       "2"
      ]
     },
     "execution_count": 67,
     "metadata": {},
     "output_type": "execute_result"
    }
   ],
   "source": [
    "tuple.index(\"Akshay\")"
   ]
  },
  {
   "cell_type": "code",
   "execution_count": 68,
   "id": "dfb63a62",
   "metadata": {},
   "outputs": [
    {
     "data": {
      "text/plain": [
       "1"
      ]
     },
     "execution_count": 68,
     "metadata": {},
     "output_type": "execute_result"
    }
   ],
   "source": [
    "tuple.count(12)"
   ]
  },
  {
   "cell_type": "markdown",
   "id": "9842e6dd",
   "metadata": {},
   "source": [
    "# DICTIONARY"
   ]
  },
  {
   "cell_type": "code",
   "execution_count": 71,
   "id": "9b27f3ac",
   "metadata": {},
   "outputs": [],
   "source": [
    "##STORES THE VALUES IN THE FORM OF KEY-VALUE PAIRS."
   ]
  },
  {
   "cell_type": "code",
   "execution_count": 72,
   "id": "a99db751",
   "metadata": {},
   "outputs": [
    {
     "data": {
      "text/plain": [
       "{}"
      ]
     },
     "execution_count": 72,
     "metadata": {},
     "output_type": "execute_result"
    }
   ],
   "source": [
    "dict1={}\n",
    "dict1"
   ]
  },
  {
   "cell_type": "code",
   "execution_count": 73,
   "id": "9d42694a",
   "metadata": {},
   "outputs": [
    {
     "data": {
      "text/plain": [
       "dict"
      ]
     },
     "execution_count": 73,
     "metadata": {},
     "output_type": "execute_result"
    }
   ],
   "source": [
    "type(dict1)"
   ]
  },
  {
   "cell_type": "code",
   "execution_count": 74,
   "id": "ada7289e",
   "metadata": {},
   "outputs": [],
   "source": [
    "d={'Fruit':'Apple','Sport':'Cricket','Games':'GTA'}"
   ]
  },
  {
   "cell_type": "code",
   "execution_count": 76,
   "id": "e37aa681",
   "metadata": {},
   "outputs": [
    {
     "data": {
      "text/plain": [
       "{'Fruit': 'Apple', 'Sport': 'Cricket', 'Games': 'GTA'}"
      ]
     },
     "execution_count": 76,
     "metadata": {},
     "output_type": "execute_result"
    }
   ],
   "source": [
    "d"
   ]
  },
  {
   "cell_type": "code",
   "execution_count": 77,
   "id": "44b573b1",
   "metadata": {},
   "outputs": [
    {
     "data": {
      "text/plain": [
       "dict_keys(['Fruit', 'Sport', 'Games'])"
      ]
     },
     "execution_count": 77,
     "metadata": {},
     "output_type": "execute_result"
    }
   ],
   "source": [
    "d.keys()"
   ]
  },
  {
   "cell_type": "code",
   "execution_count": 78,
   "id": "fc7eb22a",
   "metadata": {},
   "outputs": [
    {
     "data": {
      "text/plain": [
       "dict_values(['Apple', 'Cricket', 'GTA'])"
      ]
     },
     "execution_count": 78,
     "metadata": {},
     "output_type": "execute_result"
    }
   ],
   "source": [
    "d.values()"
   ]
  },
  {
   "cell_type": "code",
   "execution_count": 79,
   "id": "74ffe395",
   "metadata": {},
   "outputs": [
    {
     "data": {
      "text/plain": [
       "dict_items([('Fruit', 'Apple'), ('Sport', 'Cricket'), ('Games', 'GTA')])"
      ]
     },
     "execution_count": 79,
     "metadata": {},
     "output_type": "execute_result"
    }
   ],
   "source": [
    "d.items()"
   ]
  },
  {
   "cell_type": "code",
   "execution_count": 80,
   "id": "85e22ff9",
   "metadata": {},
   "outputs": [
    {
     "data": {
      "text/plain": [
       "'Cricket'"
      ]
     },
     "execution_count": 80,
     "metadata": {},
     "output_type": "execute_result"
    }
   ],
   "source": [
    "d['Sport']"
   ]
  },
  {
   "cell_type": "code",
   "execution_count": 81,
   "id": "ac34a76a",
   "metadata": {},
   "outputs": [],
   "source": [
    "###addind a key now\n",
    "d['Software'] = 'Jupyter'"
   ]
  },
  {
   "cell_type": "code",
   "execution_count": 82,
   "id": "34ab1e50",
   "metadata": {},
   "outputs": [
    {
     "data": {
      "text/plain": [
       "{'Fruit': 'Apple', 'Sport': 'Cricket', 'Games': 'GTA', 'Software': 'Jupyter'}"
      ]
     },
     "execution_count": 82,
     "metadata": {},
     "output_type": "execute_result"
    }
   ],
   "source": [
    "d"
   ]
  },
  {
   "cell_type": "code",
   "execution_count": 85,
   "id": "8ce96ba4",
   "metadata": {},
   "outputs": [],
   "source": [
    "d['Software']='Anaconda'###replces the value of old software with newn software."
   ]
  },
  {
   "cell_type": "code",
   "execution_count": 86,
   "id": "526fd525",
   "metadata": {},
   "outputs": [
    {
     "data": {
      "text/plain": [
       "{'Fruit': 'Apple', 'Sport': 'Cricket', 'Games': 'GTA', 'Software': 'Anaconda'}"
      ]
     },
     "execution_count": 86,
     "metadata": {},
     "output_type": "execute_result"
    }
   ],
   "source": [
    "d"
   ]
  },
  {
   "cell_type": "code",
   "execution_count": 87,
   "id": "8875c01e",
   "metadata": {},
   "outputs": [],
   "source": [
    "d['Fruit']='Mango'##replaces the value of fruit i.e. apple earlier with mango."
   ]
  },
  {
   "cell_type": "code",
   "execution_count": 88,
   "id": "5a9ab19d",
   "metadata": {},
   "outputs": [
    {
     "data": {
      "text/plain": [
       "{'Fruit': 'Mango', 'Sport': 'Cricket', 'Games': 'GTA', 'Software': 'Anaconda'}"
      ]
     },
     "execution_count": 88,
     "metadata": {},
     "output_type": "execute_result"
    }
   ],
   "source": [
    "d"
   ]
  },
  {
   "cell_type": "markdown",
   "id": "1557b74a",
   "metadata": {},
   "source": [
    "# LOOPS"
   ]
  },
  {
   "cell_type": "markdown",
   "id": "5c9db342",
   "metadata": {},
   "source": [
    "# FOR LOOP"
   ]
  },
  {
   "cell_type": "code",
   "execution_count": 89,
   "id": "09e6d409",
   "metadata": {},
   "outputs": [
    {
     "name": "stdout",
     "output_type": "stream",
     "text": [
      "Akshay\n",
      "Akshay\n",
      "Akshay\n",
      "Akshay\n",
      "Akshay\n",
      "Akshay\n",
      "Akshay\n",
      "Akshay\n",
      "Akshay\n",
      "Akshay\n"
     ]
    }
   ],
   "source": [
    "for i in range(10):\n",
    "    print(\"Akshay\")"
   ]
  },
  {
   "cell_type": "code",
   "execution_count": 90,
   "id": "ea57d536",
   "metadata": {},
   "outputs": [
    {
     "name": "stdout",
     "output_type": "stream",
     "text": [
      "Akshay\n",
      "Akshay\n",
      "Akshay\n",
      "Akshay\n",
      "Akshay\n",
      "Akshay\n",
      "Akshay\n",
      "Akshay\n",
      "Akshay\n"
     ]
    }
   ],
   "source": [
    "for i in range(1,10):\n",
    "    print(\"Akshay\")##prints 9 times as starts from 1 and ends at 9 i.e. 9-1+1=9 times."
   ]
  },
  {
   "cell_type": "code",
   "execution_count": 102,
   "id": "03bf5e68",
   "metadata": {},
   "outputs": [
    {
     "name": "stdout",
     "output_type": "stream",
     "text": [
      "1\n",
      "3\n",
      "5\n",
      "7\n",
      "9\n",
      "11\n",
      "13\n",
      "15\n",
      "17\n",
      "19\n"
     ]
    }
   ],
   "source": [
    "for i in range (1,20,2):\n",
    "    print(i)"
   ]
  },
  {
   "cell_type": "code",
   "execution_count": 95,
   "id": "d7933d3b",
   "metadata": {},
   "outputs": [
    {
     "name": "stdout",
     "output_type": "stream",
     "text": [
      "Akshay\n",
      "Akshay\n",
      "Akshay\n",
      "Akshay\n",
      "Akshay\n"
     ]
    }
   ],
   "source": [
    "i=0\n",
    "while i<= 4:\n",
    "    print(\"Akshay\")\n",
    "    i=i+1"
   ]
  },
  {
   "cell_type": "code",
   "execution_count": null,
   "id": "0ae4f6d4",
   "metadata": {},
   "outputs": [],
   "source": [
    "### LINK FOR UMANG SIR WEBSCRAPING PLAYLIST-> https://www.youtube.com/playlist?list=PLfNXG56H-jTvDt_BrLT65hy-vUrs7vkT9"
   ]
  }
 ],
 "metadata": {
  "kernelspec": {
   "display_name": "Python 3 (ipykernel)",
   "language": "python",
   "name": "python3"
  },
  "language_info": {
   "codemirror_mode": {
    "name": "ipython",
    "version": 3
   },
   "file_extension": ".py",
   "mimetype": "text/x-python",
   "name": "python",
   "nbconvert_exporter": "python",
   "pygments_lexer": "ipython3",
   "version": "3.9.7"
  }
 },
 "nbformat": 4,
 "nbformat_minor": 5
}
